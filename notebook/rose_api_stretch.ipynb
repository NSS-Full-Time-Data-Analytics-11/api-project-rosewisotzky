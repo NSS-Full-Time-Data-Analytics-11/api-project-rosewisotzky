{
 "cells": [
  {
   "cell_type": "code",
   "execution_count": null,
   "id": "63405cb5",
   "metadata": {},
   "outputs": [],
   "source": [
    "import requests\n",
    "import matplotlib.pyplot as plt\n",
    "import pandas as pd\n",
    "import seaborn as sns"
   ]
  },
  {
   "cell_type": "code",
   "execution_count": null,
   "id": "15d34923",
   "metadata": {},
   "outputs": [],
   "source": [
    "endpoint = 'https://data.nashville.gov/resource/7qhx-rexh.json'"
   ]
  },
  {
   "cell_type": "code",
   "execution_count": null,
   "id": "e52385c8",
   "metadata": {},
   "outputs": [],
   "source": [
    "response = requests.get(endpoint)\n",
    "res = response.json()\n",
    "res"
   ]
  },
  {
   "cell_type": "code",
   "execution_count": null,
   "id": "d9e32567",
   "metadata": {},
   "outputs": [],
   "source": [
    "len(res)"
   ]
  },
  {
   "cell_type": "code",
   "execution_count": null,
   "id": "649d716c",
   "metadata": {},
   "outputs": [],
   "source": [
    "params = {\n",
    "    '$limit':'50000',\n",
    "    \n",
    "}\n",
    "response = requests.get(endpoint, params=params)\n",
    "res = response.json()\n",
    "len(res)"
   ]
  },
  {
   "cell_type": "code",
   "execution_count": null,
   "id": "7844a841",
   "metadata": {},
   "outputs": [],
   "source": [
    "res"
   ]
  },
  {
   "cell_type": "markdown",
   "id": "25b2efc2",
   "metadata": {},
   "source": [
    "Find two new datasets on data.nashville.gov, make API requests to pull the data and do an analysis that combines the datasets\n",
    "\n",
    "I think I'll combine property standards violatins and building permits issued.\n",
    "\n",
    "https://data.nashville.gov/Business-Development-Housing/Property-Standards-Violations/479w-kw2x\n",
    "\n",
    "https://data.nashville.gov/Licenses-Permits/Building-Permits-Issued/3h5w-q8b7"
   ]
  },
  {
   "cell_type": "code",
   "execution_count": null,
   "id": "faada0d1",
   "metadata": {},
   "outputs": [],
   "source": [
    "endpoint = 'https://data.nashville.gov/resource/479w-kw2x.json'\n",
    "params = {\n",
    "    '$limit':'50000',\n",
    "    '$order':'date_received'\n",
    "}\n",
    "response = requests.get(endpoint, params = params)\n",
    "res = response.json()\n",
    "res"
   ]
  },
  {
   "cell_type": "code",
   "execution_count": null,
   "id": "6d627b90",
   "metadata": {},
   "outputs": [],
   "source": [
    "len(res)"
   ]
  },
  {
   "cell_type": "code",
   "execution_count": null,
   "id": "970af93d",
   "metadata": {},
   "outputs": [],
   "source": [
    "property_violations_df = pd.DataFrame(res)"
   ]
  },
  {
   "cell_type": "code",
   "execution_count": null,
   "id": "989e0147",
   "metadata": {},
   "outputs": [],
   "source": [
    "property_violations_df"
   ]
  },
  {
   "cell_type": "code",
   "execution_count": null,
   "id": "dc3c47e3",
   "metadata": {},
   "outputs": [],
   "source": [
    "property_violations_df.explode('mapped_location')"
   ]
  },
  {
   "cell_type": "code",
   "execution_count": null,
   "id": "18e98915",
   "metadata": {},
   "outputs": [],
   "source": [
    "pd.json_normalize(property)"
   ]
  },
  {
   "cell_type": "code",
   "execution_count": null,
   "id": "209cc40c",
   "metadata": {},
   "outputs": [],
   "source": []
  }
 ],
 "metadata": {
  "kernelspec": {
   "display_name": "Python 3 (ipykernel)",
   "language": "python",
   "name": "python3"
  },
  "language_info": {
   "codemirror_mode": {
    "name": "ipython",
    "version": 3
   },
   "file_extension": ".py",
   "mimetype": "text/x-python",
   "name": "python",
   "nbconvert_exporter": "python",
   "pygments_lexer": "ipython3",
   "version": "3.11.5"
  }
 },
 "nbformat": 4,
 "nbformat_minor": 5
}
