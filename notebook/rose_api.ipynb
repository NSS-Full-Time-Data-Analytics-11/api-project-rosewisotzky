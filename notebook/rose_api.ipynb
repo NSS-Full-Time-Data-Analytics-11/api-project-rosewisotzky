{
 "cells": [
  {
   "cell_type": "code",
   "execution_count": null,
   "id": "950f25dd",
   "metadata": {},
   "outputs": [],
   "source": [
    "import requests\n",
    "import pandas as pd\n",
    "import matplotlib.pyplot as plt\n",
    "import seaborn as sns\n",
    "\n",
    "%matplotlib inline"
   ]
  },
  {
   "cell_type": "code",
   "execution_count": null,
   "id": "bb3b02a5",
   "metadata": {},
   "outputs": [],
   "source": [
    "endpoint = 'https://data.nashville.gov/resource/fuaa-r5cm.json'\n",
    "\n",
    "response = requests.get(endpoint)"
   ]
  },
  {
   "cell_type": "code",
   "execution_count": null,
   "id": "c6b1a8f4",
   "metadata": {},
   "outputs": [],
   "source": [
    "response"
   ]
  },
  {
   "cell_type": "code",
   "execution_count": null,
   "id": "de8c62d0",
   "metadata": {},
   "outputs": [],
   "source": [
    "res = response.json()"
   ]
  },
  {
   "cell_type": "code",
   "execution_count": null,
   "id": "3950a166",
   "metadata": {},
   "outputs": [],
   "source": [
    "res"
   ]
  },
  {
   "cell_type": "markdown",
   "id": "ce226128",
   "metadata": {},
   "source": [
    "1.Make an API request that returns the months where \"fire\" was searched in 2016. Which month had the most searches? (answer: august)"
   ]
  },
  {
   "cell_type": "code",
   "execution_count": null,
   "id": "eafdf760",
   "metadata": {
    "scrolled": true
   },
   "outputs": [],
   "source": [
    "params = {\n",
    "    'query_text': 'fire',\n",
    "    'year':'2016'\n",
    "}\n",
    "\n",
    "response = requests.get(endpoint, params = params)\n",
    "res = response.json()\n",
    "res\n"
   ]
  },
  {
   "cell_type": "markdown",
   "id": "84f03312",
   "metadata": {},
   "source": [
    "2. Make an API request that returns all the times a query was run more than 100 times in a month. How many times did this occur?"
   ]
  },
  {
   "cell_type": "code",
   "execution_count": null,
   "id": "de90bb28",
   "metadata": {},
   "outputs": [],
   "source": [
    "params = {\n",
    "    '$where': 'query_count > 100',\n",
    "    '$limit': '50000'\n",
    "}\n",
    "\n",
    "response = requests.get(endpoint, params = params)\n",
    "res = response.json()\n",
    "len(res)\n"
   ]
  },
  {
   "cell_type": "markdown",
   "id": "2e0b0db5",
   "metadata": {},
   "source": [
    "3. Make another API request that returns all the times \"codes\" was searched more than 100 times in a month. How many times did this occur?"
   ]
  },
  {
   "cell_type": "code",
   "execution_count": null,
   "id": "e3305905",
   "metadata": {},
   "outputs": [],
   "source": [
    "params = {\n",
    "    'query_text': 'codes',\n",
    "    '$where':'query_count > 100'\n",
    "}\n",
    "\n",
    "response = requests.get(endpoint, params = params)\n",
    "res = response.json()\n",
    "res"
   ]
  },
  {
   "cell_type": "code",
   "execution_count": null,
   "id": "047af813",
   "metadata": {},
   "outputs": [],
   "source": [
    "len(res)"
   ]
  },
  {
   "cell_type": "markdown",
   "id": "2a6b1e00",
   "metadata": {},
   "source": [
    "Make an API request that returns the entire Top 500 Monthly Searches dataset. Make a chart that shows the number of times \"maps\" was searched in a month across the entire time frame."
   ]
  },
  {
   "cell_type": "code",
   "execution_count": null,
   "id": "44630d3e",
   "metadata": {},
   "outputs": [],
   "source": [
    "params = {\n",
    "    '$limit':50000\n",
    "    \n",
    "}\n",
    "response = requests.get(endpoint, params = params)\n",
    "res = response.json()\n",
    "\n",
    "res"
   ]
  },
  {
   "cell_type": "code",
   "execution_count": null,
   "id": "cb42ffd0",
   "metadata": {},
   "outputs": [],
   "source": [
    "endpoint"
   ]
  },
  {
   "cell_type": "code",
   "execution_count": null,
   "id": "25d99ead",
   "metadata": {},
   "outputs": [],
   "source": [
    "months = []\n",
    "query_counts = []\n",
    "\n",
    "for item in res:\n",
    "    \n",
    "    if item['query_text'].lower() == 'maps':\n",
    "        months.append(item['month_name'] + ' ' + item['year'])\n",
    "        query_counts.append(int(item['query_count']))\n",
    "        \n",
    "\n",
    "    \n",
    "    "
   ]
  },
  {
   "cell_type": "code",
   "execution_count": null,
   "id": "1c2a0413",
   "metadata": {},
   "outputs": [],
   "source": [
    "maps_search_df = pd.DataFrame({\n",
    "    'month': months,\n",
    "    'query_count': query_counts\n",
    "})\n",
    "\n",
    "maps_search_df"
   ]
  },
  {
   "cell_type": "markdown",
   "id": "06c3944d",
   "metadata": {},
   "source": [
    "_let me think through what i want to do here. on my chart i want each month and how many times maps was searched. so for each month/year i want to pull that from my response, regardless of whether maps was searched or not. then i want to pull IF maps was searched, how much and when? i already have that in my above loop so how can i combine that with pulling each month/year combo?_"
   ]
  },
  {
   "cell_type": "code",
   "execution_count": null,
   "id": "e8054161",
   "metadata": {},
   "outputs": [],
   "source": [
    "plt.figure(figsize = (12, 12))\n",
    "plt.bar('month', 'query_count', data = maps_search_df)\n",
    "plt.xticks(rotation = 75);"
   ]
  },
  {
   "cell_type": "code",
   "execution_count": null,
   "id": "569c5a04",
   "metadata": {},
   "outputs": [],
   "source": []
  }
 ],
 "metadata": {
  "kernelspec": {
   "display_name": "Python 3 (ipykernel)",
   "language": "python",
   "name": "python3"
  },
  "language_info": {
   "codemirror_mode": {
    "name": "ipython",
    "version": 3
   },
   "file_extension": ".py",
   "mimetype": "text/x-python",
   "name": "python",
   "nbconvert_exporter": "python",
   "pygments_lexer": "ipython3",
   "version": "3.11.5"
  }
 },
 "nbformat": 4,
 "nbformat_minor": 5
}
